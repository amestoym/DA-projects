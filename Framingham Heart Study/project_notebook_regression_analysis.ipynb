{
 "cells": [
  {
   "cell_type": "markdown",
   "metadata": {},
   "source": [
    "# REGRESSION ANALYSIS APPLIED TO THE FRAMINGHAM HEART DISEASE STUDY"
   ]
  },
  {
   "cell_type": "markdown",
   "metadata": {},
   "source": [
    "## Introduction:\n",
    "The following project consists on the data exploration and modeling for the Framingham Heart Study (FHS), using multi-variable linear regression and logistic regression analysis as a prediction model for the development of heart disease.\n",
    "\n",
    "## Motivation:\n",
    "According to the World Health Organization (WHO), cardiovascular disease is the number one cause of death around the world. This problem persists in both rich and developing countries alike, and understanding the risk factors that contribute to long-term occurence of cardiovascular disease could have a significant impact in reducing both the incidence and mortality of said conditions.\n",
    "\n",
    "## Source:\n",
    "The source of the data used in this project comes from the Framingham Heart Study, a continuous study started in 1948 that tracks life habits and medical data of more than 5,000 inhabitants from Framingham, Massachusetts. The selected database is provided by the University of Helsinki as part of its Data Analysis with Python courses."
   ]
  },
  {
   "cell_type": "markdown",
   "metadata": {},
   "source": [
    "First, we import all the modules that will be used in the notebook:"
   ]
  },
  {
   "cell_type": "code",
   "execution_count": 1,
   "metadata": {},
   "outputs": [],
   "source": [
    "import pandas as pd\n",
    "import numpy as np\n",
    "import statsmodels\n",
    "import statsmodels.api as sm\n",
    "import statsmodels.formula.api as smf\n",
    "import matplotlib.pyplot as plt\n",
    "from statsmodels.graphics.regressionplots import abline_plot"
   ]
  },
  {
   "cell_type": "markdown",
   "metadata": {},
   "source": [
    "Then, we load the data stored in the .txt file and get the summary of the variables in the columns."
   ]
  },
  {
   "cell_type": "code",
   "execution_count": 2,
   "metadata": {
    "scrolled": true
   },
   "outputs": [
    {
     "data": {
      "text/html": [
       "<div>\n",
       "<style scoped>\n",
       "    .dataframe tbody tr th:only-of-type {\n",
       "        vertical-align: middle;\n",
       "    }\n",
       "\n",
       "    .dataframe tbody tr th {\n",
       "        vertical-align: top;\n",
       "    }\n",
       "\n",
       "    .dataframe thead th {\n",
       "        text-align: right;\n",
       "    }\n",
       "</style>\n",
       "<table border=\"1\" class=\"dataframe\">\n",
       "  <thead>\n",
       "    <tr style=\"text-align: right;\">\n",
       "      <th></th>\n",
       "      <th>ID</th>\n",
       "      <th>AGE</th>\n",
       "      <th>FRW</th>\n",
       "      <th>SBP</th>\n",
       "      <th>SBP10</th>\n",
       "      <th>DBP</th>\n",
       "      <th>CHOL</th>\n",
       "      <th>CIG</th>\n",
       "      <th>CHD</th>\n",
       "      <th>DEATH</th>\n",
       "      <th>YRS_DTH</th>\n",
       "    </tr>\n",
       "  </thead>\n",
       "  <tbody>\n",
       "    <tr>\n",
       "      <th>count</th>\n",
       "      <td>1394.000000</td>\n",
       "      <td>1394.000000</td>\n",
       "      <td>1394.000000</td>\n",
       "      <td>1394.000000</td>\n",
       "      <td>767.000000</td>\n",
       "      <td>1394.000000</td>\n",
       "      <td>1394.000000</td>\n",
       "      <td>1394.000000</td>\n",
       "      <td>1394.000000</td>\n",
       "      <td>1394.000000</td>\n",
       "      <td>1394.000000</td>\n",
       "    </tr>\n",
       "    <tr>\n",
       "      <th>mean</th>\n",
       "      <td>4737.184362</td>\n",
       "      <td>52.431133</td>\n",
       "      <td>105.365136</td>\n",
       "      <td>148.086083</td>\n",
       "      <td>148.040417</td>\n",
       "      <td>90.135581</td>\n",
       "      <td>234.644907</td>\n",
       "      <td>8.029412</td>\n",
       "      <td>1.187948</td>\n",
       "      <td>1.700861</td>\n",
       "      <td>16.219512</td>\n",
       "    </tr>\n",
       "    <tr>\n",
       "      <th>std</th>\n",
       "      <td>1073.406896</td>\n",
       "      <td>4.781507</td>\n",
       "      <td>17.752489</td>\n",
       "      <td>28.022062</td>\n",
       "      <td>25.706664</td>\n",
       "      <td>14.226235</td>\n",
       "      <td>46.303822</td>\n",
       "      <td>11.584138</td>\n",
       "      <td>2.615976</td>\n",
       "      <td>3.203132</td>\n",
       "      <td>3.921413</td>\n",
       "    </tr>\n",
       "    <tr>\n",
       "      <th>min</th>\n",
       "      <td>1070.000000</td>\n",
       "      <td>45.000000</td>\n",
       "      <td>52.000000</td>\n",
       "      <td>90.000000</td>\n",
       "      <td>94.000000</td>\n",
       "      <td>50.000000</td>\n",
       "      <td>96.000000</td>\n",
       "      <td>0.000000</td>\n",
       "      <td>0.000000</td>\n",
       "      <td>0.000000</td>\n",
       "      <td>1.000000</td>\n",
       "    </tr>\n",
       "    <tr>\n",
       "      <th>25%</th>\n",
       "      <td>3890.250000</td>\n",
       "      <td>48.000000</td>\n",
       "      <td>94.000000</td>\n",
       "      <td>130.000000</td>\n",
       "      <td>130.000000</td>\n",
       "      <td>80.000000</td>\n",
       "      <td>200.000000</td>\n",
       "      <td>0.000000</td>\n",
       "      <td>0.000000</td>\n",
       "      <td>0.000000</td>\n",
       "      <td>18.000000</td>\n",
       "    </tr>\n",
       "    <tr>\n",
       "      <th>50%</th>\n",
       "      <td>4821.000000</td>\n",
       "      <td>52.000000</td>\n",
       "      <td>103.000000</td>\n",
       "      <td>142.000000</td>\n",
       "      <td>145.000000</td>\n",
       "      <td>90.000000</td>\n",
       "      <td>230.000000</td>\n",
       "      <td>0.000000</td>\n",
       "      <td>0.000000</td>\n",
       "      <td>0.000000</td>\n",
       "      <td>18.000000</td>\n",
       "    </tr>\n",
       "    <tr>\n",
       "      <th>75%</th>\n",
       "      <td>5641.750000</td>\n",
       "      <td>56.000000</td>\n",
       "      <td>114.000000</td>\n",
       "      <td>160.000000</td>\n",
       "      <td>160.000000</td>\n",
       "      <td>98.000000</td>\n",
       "      <td>264.000000</td>\n",
       "      <td>20.000000</td>\n",
       "      <td>0.000000</td>\n",
       "      <td>0.000000</td>\n",
       "      <td>18.000000</td>\n",
       "    </tr>\n",
       "    <tr>\n",
       "      <th>max</th>\n",
       "      <td>6442.000000</td>\n",
       "      <td>62.000000</td>\n",
       "      <td>222.000000</td>\n",
       "      <td>300.000000</td>\n",
       "      <td>264.000000</td>\n",
       "      <td>160.000000</td>\n",
       "      <td>430.000000</td>\n",
       "      <td>60.000000</td>\n",
       "      <td>10.000000</td>\n",
       "      <td>10.000000</td>\n",
       "      <td>18.000000</td>\n",
       "    </tr>\n",
       "  </tbody>\n",
       "</table>\n",
       "</div>"
      ],
      "text/plain": [
       "                ID          AGE          FRW          SBP       SBP10  \\\n",
       "count  1394.000000  1394.000000  1394.000000  1394.000000  767.000000   \n",
       "mean   4737.184362    52.431133   105.365136   148.086083  148.040417   \n",
       "std    1073.406896     4.781507    17.752489    28.022062   25.706664   \n",
       "min    1070.000000    45.000000    52.000000    90.000000   94.000000   \n",
       "25%    3890.250000    48.000000    94.000000   130.000000  130.000000   \n",
       "50%    4821.000000    52.000000   103.000000   142.000000  145.000000   \n",
       "75%    5641.750000    56.000000   114.000000   160.000000  160.000000   \n",
       "max    6442.000000    62.000000   222.000000   300.000000  264.000000   \n",
       "\n",
       "               DBP         CHOL          CIG          CHD        DEATH  \\\n",
       "count  1394.000000  1394.000000  1394.000000  1394.000000  1394.000000   \n",
       "mean     90.135581   234.644907     8.029412     1.187948     1.700861   \n",
       "std      14.226235    46.303822    11.584138     2.615976     3.203132   \n",
       "min      50.000000    96.000000     0.000000     0.000000     0.000000   \n",
       "25%      80.000000   200.000000     0.000000     0.000000     0.000000   \n",
       "50%      90.000000   230.000000     0.000000     0.000000     0.000000   \n",
       "75%      98.000000   264.000000    20.000000     0.000000     0.000000   \n",
       "max     160.000000   430.000000    60.000000    10.000000    10.000000   \n",
       "\n",
       "           YRS_DTH  \n",
       "count  1394.000000  \n",
       "mean     16.219512  \n",
       "std       3.921413  \n",
       "min       1.000000  \n",
       "25%      18.000000  \n",
       "50%      18.000000  \n",
       "75%      18.000000  \n",
       "max      18.000000  "
      ]
     },
     "execution_count": 2,
     "metadata": {},
     "output_type": "execute_result"
    }
   ],
   "source": [
    "import sys\n",
    "import os\n",
    "cwd = os.getcwd()\n",
    "filename = cwd+'\\\\datasets\\\\fram.txt'\n",
    "fram = pd.read_csv(filename, sep='\\t')\n",
    "fram.describe()"
   ]
  },
  {
   "cell_type": "markdown",
   "metadata": {},
   "source": [
    "The legend for the different column names is as follows:\n",
    "\n",
    "- ID:   Participant ID\n",
    "- SEX:  Gender\n",
    "- AGE:  Age at the start of the study\n",
    "- FRW:  Weight in relation to groups median\n",
    "- SBP:  Systolic Blood Pressure\n",
    "- SBP10:  Systolic Blood Pressure at exam 10\n",
    "- DBP:  Diastolic Blood Pressure\n",
    "- CHOL: Cholestherol level\n",
    "- CIG:  Smoking (cigarets per day)\n",
    "- CHD:  10-year Coronary Heart Disease Risk Factor (from 0 to 10)\n",
    "- YRS_CHD:  Years in observation until withdrawn or first CHD event\n",
    "- YRS_DTH: Years in observation in respect to mortality (max. 18, years of duration of the study)\n"
   ]
  },
  {
   "cell_type": "markdown",
   "metadata": {},
   "source": [
    "We explore the data to get an idea of what it looks like and the information it contains."
   ]
  },
  {
   "cell_type": "code",
   "execution_count": 3,
   "metadata": {},
   "outputs": [
    {
     "data": {
      "text/html": [
       "<div>\n",
       "<style scoped>\n",
       "    .dataframe tbody tr th:only-of-type {\n",
       "        vertical-align: middle;\n",
       "    }\n",
       "\n",
       "    .dataframe tbody tr th {\n",
       "        vertical-align: top;\n",
       "    }\n",
       "\n",
       "    .dataframe thead th {\n",
       "        text-align: right;\n",
       "    }\n",
       "</style>\n",
       "<table border=\"1\" class=\"dataframe\">\n",
       "  <thead>\n",
       "    <tr style=\"text-align: right;\">\n",
       "      <th></th>\n",
       "      <th>ID</th>\n",
       "      <th>SEX</th>\n",
       "      <th>AGE</th>\n",
       "      <th>FRW</th>\n",
       "      <th>SBP</th>\n",
       "      <th>SBP10</th>\n",
       "      <th>DBP</th>\n",
       "      <th>CHOL</th>\n",
       "      <th>CIG</th>\n",
       "      <th>CHD</th>\n",
       "      <th>YRS_CHD</th>\n",
       "      <th>DEATH</th>\n",
       "      <th>YRS_DTH</th>\n",
       "      <th>CAUSE</th>\n",
       "    </tr>\n",
       "  </thead>\n",
       "  <tbody>\n",
       "    <tr>\n",
       "      <th>0</th>\n",
       "      <td>4988</td>\n",
       "      <td>female</td>\n",
       "      <td>57</td>\n",
       "      <td>135</td>\n",
       "      <td>186</td>\n",
       "      <td>NaN</td>\n",
       "      <td>120</td>\n",
       "      <td>150</td>\n",
       "      <td>0</td>\n",
       "      <td>1</td>\n",
       "      <td>pre</td>\n",
       "      <td>7</td>\n",
       "      <td>11</td>\n",
       "      <td>unknown</td>\n",
       "    </tr>\n",
       "    <tr>\n",
       "      <th>1</th>\n",
       "      <td>3001</td>\n",
       "      <td>female</td>\n",
       "      <td>60</td>\n",
       "      <td>123</td>\n",
       "      <td>165</td>\n",
       "      <td>NaN</td>\n",
       "      <td>100</td>\n",
       "      <td>167</td>\n",
       "      <td>25</td>\n",
       "      <td>0</td>\n",
       "      <td>16</td>\n",
       "      <td>10</td>\n",
       "      <td>17</td>\n",
       "      <td>unknown</td>\n",
       "    </tr>\n",
       "    <tr>\n",
       "      <th>2</th>\n",
       "      <td>5079</td>\n",
       "      <td>female</td>\n",
       "      <td>54</td>\n",
       "      <td>115</td>\n",
       "      <td>140</td>\n",
       "      <td>NaN</td>\n",
       "      <td>90</td>\n",
       "      <td>213</td>\n",
       "      <td>5</td>\n",
       "      <td>0</td>\n",
       "      <td>8</td>\n",
       "      <td>8</td>\n",
       "      <td>13</td>\n",
       "      <td>unknown</td>\n",
       "    </tr>\n",
       "    <tr>\n",
       "      <th>3</th>\n",
       "      <td>5162</td>\n",
       "      <td>female</td>\n",
       "      <td>52</td>\n",
       "      <td>102</td>\n",
       "      <td>170</td>\n",
       "      <td>NaN</td>\n",
       "      <td>104</td>\n",
       "      <td>280</td>\n",
       "      <td>15</td>\n",
       "      <td>0</td>\n",
       "      <td>10</td>\n",
       "      <td>7</td>\n",
       "      <td>11</td>\n",
       "      <td>unknown</td>\n",
       "    </tr>\n",
       "    <tr>\n",
       "      <th>4</th>\n",
       "      <td>4672</td>\n",
       "      <td>female</td>\n",
       "      <td>45</td>\n",
       "      <td>99</td>\n",
       "      <td>185</td>\n",
       "      <td>NaN</td>\n",
       "      <td>105</td>\n",
       "      <td>326</td>\n",
       "      <td>20</td>\n",
       "      <td>0</td>\n",
       "      <td>8</td>\n",
       "      <td>10</td>\n",
       "      <td>17</td>\n",
       "      <td>unknown</td>\n",
       "    </tr>\n",
       "  </tbody>\n",
       "</table>\n",
       "</div>"
      ],
      "text/plain": [
       "     ID     SEX  AGE  FRW  SBP  SBP10  DBP  CHOL  CIG  CHD YRS_CHD  DEATH  \\\n",
       "0  4988  female   57  135  186    NaN  120   150    0    1     pre      7   \n",
       "1  3001  female   60  123  165    NaN  100   167   25    0      16     10   \n",
       "2  5079  female   54  115  140    NaN   90   213    5    0       8      8   \n",
       "3  5162  female   52  102  170    NaN  104   280   15    0      10      7   \n",
       "4  4672  female   45   99  185    NaN  105   326   20    0       8     10   \n",
       "\n",
       "   YRS_DTH    CAUSE  \n",
       "0       11  unknown  \n",
       "1       17  unknown  \n",
       "2       13  unknown  \n",
       "3       11  unknown  \n",
       "4       17  unknown  "
      ]
     },
     "execution_count": 3,
     "metadata": {},
     "output_type": "execute_result"
    }
   ],
   "source": [
    "fram.head()"
   ]
  },
  {
   "cell_type": "markdown",
   "metadata": {},
   "source": [
    "We check for missing values and information."
   ]
  },
  {
   "cell_type": "code",
   "execution_count": 4,
   "metadata": {},
   "outputs": [
    {
     "name": "stdout",
     "output_type": "stream",
     "text": [
      "ID           0\n",
      "SEX          0\n",
      "AGE          0\n",
      "FRW          0\n",
      "SBP          0\n",
      "SBP10      627\n",
      "DBP          0\n",
      "CHOL         0\n",
      "CIG          0\n",
      "CHD          0\n",
      "YRS_CHD      0\n",
      "DEATH        0\n",
      "YRS_DTH      0\n",
      "CAUSE        0\n",
      "dtype: int64\n",
      "alive                1050\n",
      "cancer                 77\n",
      "CHD (not sudden))      58\n",
      "cvd                    57\n",
      "other                  56\n",
      "CHD (sudden)           51\n",
      "stroke                 27\n",
      "unknown                18\n",
      "Name: CAUSE, dtype: int64\n"
     ]
    }
   ],
   "source": [
    "print(fram.isna().sum())\n",
    "print(fram['CAUSE'].value_counts())"
   ]
  },
  {
   "cell_type": "markdown",
   "metadata": {},
   "source": [
    "Most of the missing values correspond to `SBP10` and `CAUSE` of death. Considering we are only interested in correlating some quantifiable variables, like `SBP` and `CHD`, to a participant's habits and measurable health parameters, we decide to drop columns `SBP10`, `YRS_CHD`, `DEATH`, `YRS_DTH` and `CAUSE`."
   ]
  },
  {
   "cell_type": "code",
   "execution_count": 5,
   "metadata": {},
   "outputs": [
    {
     "data": {
      "text/html": [
       "<div>\n",
       "<style scoped>\n",
       "    .dataframe tbody tr th:only-of-type {\n",
       "        vertical-align: middle;\n",
       "    }\n",
       "\n",
       "    .dataframe tbody tr th {\n",
       "        vertical-align: top;\n",
       "    }\n",
       "\n",
       "    .dataframe thead th {\n",
       "        text-align: right;\n",
       "    }\n",
       "</style>\n",
       "<table border=\"1\" class=\"dataframe\">\n",
       "  <thead>\n",
       "    <tr style=\"text-align: right;\">\n",
       "      <th></th>\n",
       "      <th>ID</th>\n",
       "      <th>SEX</th>\n",
       "      <th>AGE</th>\n",
       "      <th>FRW</th>\n",
       "      <th>SBP</th>\n",
       "      <th>DBP</th>\n",
       "      <th>CHOL</th>\n",
       "      <th>CIG</th>\n",
       "      <th>CHD</th>\n",
       "    </tr>\n",
       "  </thead>\n",
       "  <tbody>\n",
       "    <tr>\n",
       "      <th>0</th>\n",
       "      <td>4988</td>\n",
       "      <td>female</td>\n",
       "      <td>57</td>\n",
       "      <td>135</td>\n",
       "      <td>186</td>\n",
       "      <td>120</td>\n",
       "      <td>150</td>\n",
       "      <td>0</td>\n",
       "      <td>1</td>\n",
       "    </tr>\n",
       "    <tr>\n",
       "      <th>1</th>\n",
       "      <td>3001</td>\n",
       "      <td>female</td>\n",
       "      <td>60</td>\n",
       "      <td>123</td>\n",
       "      <td>165</td>\n",
       "      <td>100</td>\n",
       "      <td>167</td>\n",
       "      <td>25</td>\n",
       "      <td>0</td>\n",
       "    </tr>\n",
       "    <tr>\n",
       "      <th>2</th>\n",
       "      <td>5079</td>\n",
       "      <td>female</td>\n",
       "      <td>54</td>\n",
       "      <td>115</td>\n",
       "      <td>140</td>\n",
       "      <td>90</td>\n",
       "      <td>213</td>\n",
       "      <td>5</td>\n",
       "      <td>0</td>\n",
       "    </tr>\n",
       "    <tr>\n",
       "      <th>3</th>\n",
       "      <td>5162</td>\n",
       "      <td>female</td>\n",
       "      <td>52</td>\n",
       "      <td>102</td>\n",
       "      <td>170</td>\n",
       "      <td>104</td>\n",
       "      <td>280</td>\n",
       "      <td>15</td>\n",
       "      <td>0</td>\n",
       "    </tr>\n",
       "    <tr>\n",
       "      <th>4</th>\n",
       "      <td>4672</td>\n",
       "      <td>female</td>\n",
       "      <td>45</td>\n",
       "      <td>99</td>\n",
       "      <td>185</td>\n",
       "      <td>105</td>\n",
       "      <td>326</td>\n",
       "      <td>20</td>\n",
       "      <td>0</td>\n",
       "    </tr>\n",
       "  </tbody>\n",
       "</table>\n",
       "</div>"
      ],
      "text/plain": [
       "     ID     SEX  AGE  FRW  SBP  DBP  CHOL  CIG  CHD\n",
       "0  4988  female   57  135  186  120   150    0    1\n",
       "1  3001  female   60  123  165  100   167   25    0\n",
       "2  5079  female   54  115  140   90   213    5    0\n",
       "3  5162  female   52  102  170  104   280   15    0\n",
       "4  4672  female   45   99  185  105   326   20    0"
      ]
     },
     "execution_count": 5,
     "metadata": {},
     "output_type": "execute_result"
    }
   ],
   "source": [
    "fram = fram.drop(columns=['SBP10', 'YRS_CHD', 'DEATH', 'YRS_DTH', 'CAUSE'])\n",
    "fram.head()"
   ]
  },
  {
   "cell_type": "markdown",
   "metadata": {},
   "source": [
    "As the magnitude of the different continuous variables varies considerably, we need to normalize and center it to avoid larger coefficients dominating the correlation.\n",
    "For this purpose, we define a rescale function for the DataFrame by substracting the mean and dividing by two times the std deviation ($\\sigma$) for each column Series."
   ]
  },
  {
   "cell_type": "code",
   "execution_count": 6,
   "metadata": {},
   "outputs": [],
   "source": [
    "# We define the function used to rescale the data in the DataFrame\n",
    "def rescale(series):\n",
    "    '''Normalizes the data contained in the Series, centering it by the mean and dividing by twice\n",
    "    the value of the standard deviation'''\n",
    "    s_dev = series.std()\n",
    "    series = (series-series.mean())/(2*s_dev)\n",
    "    return series"
   ]
  },
  {
   "cell_type": "markdown",
   "metadata": {},
   "source": [
    "We rescale the continuous variables contained in the DataFrame to ensure a proportional contribution in the predictive model. Then we add the rescaled versions as new columns, adding an 's' to the original name (i.e, `AGE` -> `sAGE`)."
   ]
  },
  {
   "cell_type": "code",
   "execution_count": 7,
   "metadata": {},
   "outputs": [],
   "source": [
    "fram['sAGE'] = rescale(fram['AGE'])\n",
    "fram['sFRW'] = rescale(fram['FRW'])\n",
    "fram['sSBP'] = rescale(fram['SBP'])\n",
    "fram['sDBP'] = rescale(fram['DBP'])\n",
    "fram['sCHOL'] = rescale(fram['CHOL'])\n",
    "fram['sCIG'] = rescale(fram['CIG'])"
   ]
  },
  {
   "cell_type": "markdown",
   "metadata": {},
   "source": [
    "## _Multi-variable Linear Regression_"
   ]
  },
  {
   "cell_type": "markdown",
   "metadata": {},
   "source": [
    "As a first step, we create a linear regression model that predicts `SBP` using `sFRW`, `SEX` and `sCHOL` as\n",
    "explanatory variables. That is, we try to predict systolic blood pressure using weight, sex and cholesterol levels as predictors."
   ]
  },
  {
   "cell_type": "code",
   "execution_count": 8,
   "metadata": {},
   "outputs": [
    {
     "data": {
      "text/html": [
       "<table class=\"simpletable\">\n",
       "<caption>OLS Regression Results</caption>\n",
       "<tr>\n",
       "  <th>Dep. Variable:</th>           <td>SBP</td>       <th>  R-squared:         </th> <td>   0.125</td> \n",
       "</tr>\n",
       "<tr>\n",
       "  <th>Model:</th>                   <td>OLS</td>       <th>  Adj. R-squared:    </th> <td>   0.123</td> \n",
       "</tr>\n",
       "<tr>\n",
       "  <th>Method:</th>             <td>Least Squares</td>  <th>  F-statistic:       </th> <td>   66.37</td> \n",
       "</tr>\n",
       "<tr>\n",
       "  <th>Date:</th>             <td>Wed, 07 Jul 2021</td> <th>  Prob (F-statistic):</th> <td>4.13e-40</td> \n",
       "</tr>\n",
       "<tr>\n",
       "  <th>Time:</th>                 <td>14:15:02</td>     <th>  Log-Likelihood:    </th> <td> -6530.4</td> \n",
       "</tr>\n",
       "<tr>\n",
       "  <th>No. Observations:</th>      <td>  1394</td>      <th>  AIC:               </th> <td>1.307e+04</td>\n",
       "</tr>\n",
       "<tr>\n",
       "  <th>Df Residuals:</th>          <td>  1390</td>      <th>  BIC:               </th> <td>1.309e+04</td>\n",
       "</tr>\n",
       "<tr>\n",
       "  <th>Df Model:</th>              <td>     3</td>      <th>                     </th>     <td> </td>    \n",
       "</tr>\n",
       "<tr>\n",
       "  <th>Covariance Type:</th>      <td>nonrobust</td>    <th>                     </th>     <td> </td>    \n",
       "</tr>\n",
       "</table>\n",
       "<table class=\"simpletable\">\n",
       "<tr>\n",
       "       <td></td>          <th>coef</th>     <th>std err</th>      <th>t</th>      <th>P>|t|</th>  <th>[0.025</th>    <th>0.975]</th>  \n",
       "</tr>\n",
       "<tr>\n",
       "  <th>Intercept</th>   <td>  150.0199</td> <td>    0.985</td> <td>  152.336</td> <td> 0.000</td> <td>  148.088</td> <td>  151.952</td>\n",
       "</tr>\n",
       "<tr>\n",
       "  <th>SEX[T.male]</th> <td>   -4.0659</td> <td>    1.451</td> <td>   -2.803</td> <td> 0.005</td> <td>   -6.912</td> <td>   -1.220</td>\n",
       "</tr>\n",
       "<tr>\n",
       "  <th>sFRW</th>        <td>   17.7205</td> <td>    1.426</td> <td>   12.431</td> <td> 0.000</td> <td>   14.924</td> <td>   20.517</td>\n",
       "</tr>\n",
       "<tr>\n",
       "  <th>sCHOL</th>       <td>    4.9169</td> <td>    1.431</td> <td>    3.436</td> <td> 0.001</td> <td>    2.110</td> <td>    7.724</td>\n",
       "</tr>\n",
       "</table>\n",
       "<table class=\"simpletable\">\n",
       "<tr>\n",
       "  <th>Omnibus:</th>       <td>327.612</td> <th>  Durbin-Watson:     </th> <td>   1.774</td> \n",
       "</tr>\n",
       "<tr>\n",
       "  <th>Prob(Omnibus):</th> <td> 0.000</td>  <th>  Jarque-Bera (JB):  </th> <td> 843.676</td> \n",
       "</tr>\n",
       "<tr>\n",
       "  <th>Skew:</th>          <td> 1.237</td>  <th>  Prob(JB):          </th> <td>6.28e-184</td>\n",
       "</tr>\n",
       "<tr>\n",
       "  <th>Kurtosis:</th>      <td> 5.899</td>  <th>  Cond. No.          </th> <td>    2.79</td> \n",
       "</tr>\n",
       "</table><br/><br/>Notes:<br/>[1] Standard Errors assume that the covariance matrix of the errors is correctly specified."
      ],
      "text/plain": [
       "<class 'statsmodels.iolib.summary.Summary'>\n",
       "\"\"\"\n",
       "                            OLS Regression Results                            \n",
       "==============================================================================\n",
       "Dep. Variable:                    SBP   R-squared:                       0.125\n",
       "Model:                            OLS   Adj. R-squared:                  0.123\n",
       "Method:                 Least Squares   F-statistic:                     66.37\n",
       "Date:                Wed, 07 Jul 2021   Prob (F-statistic):           4.13e-40\n",
       "Time:                        14:15:02   Log-Likelihood:                -6530.4\n",
       "No. Observations:                1394   AIC:                         1.307e+04\n",
       "Df Residuals:                    1390   BIC:                         1.309e+04\n",
       "Df Model:                           3                                         \n",
       "Covariance Type:            nonrobust                                         \n",
       "===============================================================================\n",
       "                  coef    std err          t      P>|t|      [0.025      0.975]\n",
       "-------------------------------------------------------------------------------\n",
       "Intercept     150.0199      0.985    152.336      0.000     148.088     151.952\n",
       "SEX[T.male]    -4.0659      1.451     -2.803      0.005      -6.912      -1.220\n",
       "sFRW           17.7205      1.426     12.431      0.000      14.924      20.517\n",
       "sCHOL           4.9169      1.431      3.436      0.001       2.110       7.724\n",
       "==============================================================================\n",
       "Omnibus:                      327.612   Durbin-Watson:                   1.774\n",
       "Prob(Omnibus):                  0.000   Jarque-Bera (JB):              843.676\n",
       "Skew:                           1.237   Prob(JB):                    6.28e-184\n",
       "Kurtosis:                       5.899   Cond. No.                         2.79\n",
       "==============================================================================\n",
       "\n",
       "Notes:\n",
       "[1] Standard Errors assume that the covariance matrix of the errors is correctly specified.\n",
       "\"\"\""
      ]
     },
     "execution_count": 8,
     "metadata": {},
     "output_type": "execute_result"
    }
   ],
   "source": [
    "model = smf.ols('SBP ~ sFRW + SEX + sCHOL', data=fram)\n",
    "# We fit the model and get the regression results\n",
    "fit = model.fit()\n",
    "fit.summary()"
   ]
  },
  {
   "cell_type": "markdown",
   "metadata": {},
   "source": [
    "The OLS summary tells us that, even if the model can only explain around the 12% of the variance in the data, we can assume that there is a significant correlation between the parameters and the predicted variable (`Prob(F-stat)`). Next, we add the scaled age as another explanatory variable to the model, we fit it to the data and analyse the impact on the coefficients and accuracy of the model (as the adjusted R-squared)."
   ]
  },
  {
   "cell_type": "code",
   "execution_count": 9,
   "metadata": {},
   "outputs": [
    {
     "data": {
      "text/html": [
       "<table class=\"simpletable\">\n",
       "<caption>OLS Regression Results</caption>\n",
       "<tr>\n",
       "  <th>Dep. Variable:</th>           <td>SBP</td>       <th>  R-squared:         </th> <td>   0.146</td> \n",
       "</tr>\n",
       "<tr>\n",
       "  <th>Model:</th>                   <td>OLS</td>       <th>  Adj. R-squared:    </th> <td>   0.144</td> \n",
       "</tr>\n",
       "<tr>\n",
       "  <th>Method:</th>             <td>Least Squares</td>  <th>  F-statistic:       </th> <td>   59.39</td> \n",
       "</tr>\n",
       "<tr>\n",
       "  <th>Date:</th>             <td>Wed, 07 Jul 2021</td> <th>  Prob (F-statistic):</th> <td>2.44e-46</td> \n",
       "</tr>\n",
       "<tr>\n",
       "  <th>Time:</th>                 <td>14:15:02</td>     <th>  Log-Likelihood:    </th> <td> -6513.6</td> \n",
       "</tr>\n",
       "<tr>\n",
       "  <th>No. Observations:</th>      <td>  1394</td>      <th>  AIC:               </th> <td>1.304e+04</td>\n",
       "</tr>\n",
       "<tr>\n",
       "  <th>Df Residuals:</th>          <td>  1389</td>      <th>  BIC:               </th> <td>1.306e+04</td>\n",
       "</tr>\n",
       "<tr>\n",
       "  <th>Df Model:</th>              <td>     4</td>      <th>                     </th>     <td> </td>    \n",
       "</tr>\n",
       "<tr>\n",
       "  <th>Covariance Type:</th>      <td>nonrobust</td>    <th>                     </th>     <td> </td>    \n",
       "</tr>\n",
       "</table>\n",
       "<table class=\"simpletable\">\n",
       "<tr>\n",
       "       <td></td>          <th>coef</th>     <th>std err</th>      <th>t</th>      <th>P>|t|</th>  <th>[0.025</th>    <th>0.975]</th>  \n",
       "</tr>\n",
       "<tr>\n",
       "  <th>Intercept</th>   <td>  150.1695</td> <td>    0.974</td> <td>  154.221</td> <td> 0.000</td> <td>  148.259</td> <td>  152.080</td>\n",
       "</tr>\n",
       "<tr>\n",
       "  <th>SEX[T.male]</th> <td>   -4.3805</td> <td>    1.435</td> <td>   -3.053</td> <td> 0.002</td> <td>   -7.195</td> <td>   -1.566</td>\n",
       "</tr>\n",
       "<tr>\n",
       "  <th>sFRW</th>        <td>   16.9771</td> <td>    1.415</td> <td>   11.999</td> <td> 0.000</td> <td>   14.202</td> <td>   19.753</td>\n",
       "</tr>\n",
       "<tr>\n",
       "  <th>sCHOL</th>       <td>    4.2696</td> <td>    1.419</td> <td>    3.009</td> <td> 0.003</td> <td>    1.486</td> <td>    7.053</td>\n",
       "</tr>\n",
       "<tr>\n",
       "  <th>sAGE</th>        <td>    8.1332</td> <td>    1.400</td> <td>    5.810</td> <td> 0.000</td> <td>    5.387</td> <td>   10.879</td>\n",
       "</tr>\n",
       "</table>\n",
       "<table class=\"simpletable\">\n",
       "<tr>\n",
       "  <th>Omnibus:</th>       <td>321.087</td> <th>  Durbin-Watson:     </th> <td>   1.807</td> \n",
       "</tr>\n",
       "<tr>\n",
       "  <th>Prob(Omnibus):</th> <td> 0.000</td>  <th>  Jarque-Bera (JB):  </th> <td> 840.955</td> \n",
       "</tr>\n",
       "<tr>\n",
       "  <th>Skew:</th>          <td> 1.206</td>  <th>  Prob(JB):          </th> <td>2.45e-183</td>\n",
       "</tr>\n",
       "<tr>\n",
       "  <th>Kurtosis:</th>      <td> 5.944</td>  <th>  Cond. No.          </th> <td>    2.82</td> \n",
       "</tr>\n",
       "</table><br/><br/>Notes:<br/>[1] Standard Errors assume that the covariance matrix of the errors is correctly specified."
      ],
      "text/plain": [
       "<class 'statsmodels.iolib.summary.Summary'>\n",
       "\"\"\"\n",
       "                            OLS Regression Results                            \n",
       "==============================================================================\n",
       "Dep. Variable:                    SBP   R-squared:                       0.146\n",
       "Model:                            OLS   Adj. R-squared:                  0.144\n",
       "Method:                 Least Squares   F-statistic:                     59.39\n",
       "Date:                Wed, 07 Jul 2021   Prob (F-statistic):           2.44e-46\n",
       "Time:                        14:15:02   Log-Likelihood:                -6513.6\n",
       "No. Observations:                1394   AIC:                         1.304e+04\n",
       "Df Residuals:                    1389   BIC:                         1.306e+04\n",
       "Df Model:                           4                                         \n",
       "Covariance Type:            nonrobust                                         \n",
       "===============================================================================\n",
       "                  coef    std err          t      P>|t|      [0.025      0.975]\n",
       "-------------------------------------------------------------------------------\n",
       "Intercept     150.1695      0.974    154.221      0.000     148.259     152.080\n",
       "SEX[T.male]    -4.3805      1.435     -3.053      0.002      -7.195      -1.566\n",
       "sFRW           16.9771      1.415     11.999      0.000      14.202      19.753\n",
       "sCHOL           4.2696      1.419      3.009      0.003       1.486       7.053\n",
       "sAGE            8.1332      1.400      5.810      0.000       5.387      10.879\n",
       "==============================================================================\n",
       "Omnibus:                      321.087   Durbin-Watson:                   1.807\n",
       "Prob(Omnibus):                  0.000   Jarque-Bera (JB):              840.955\n",
       "Skew:                           1.206   Prob(JB):                    2.45e-183\n",
       "Kurtosis:                       5.944   Cond. No.                         2.82\n",
       "==============================================================================\n",
       "\n",
       "Notes:\n",
       "[1] Standard Errors assume that the covariance matrix of the errors is correctly specified.\n",
       "\"\"\""
      ]
     },
     "execution_count": 9,
     "metadata": {},
     "output_type": "execute_result"
    }
   ],
   "source": [
    "model = smf.ols('SBP ~ sFRW + SEX + sCHOL + sAGE', data=fram)\n",
    "# We fit the model and get the regression results\n",
    "fit = model.fit()\n",
    "fit.summary()"
   ]
  },
  {
   "cell_type": "markdown",
   "metadata": {},
   "source": [
    "As we can see, the inclusion of age increases the explanatory power of the model in 17,1%. Age and weight account for most of the variance in the target variable (they have the highest coefficients for the model)."
   ]
  },
  {
   "cell_type": "markdown",
   "metadata": {},
   "source": [
    "We expand the linear regression model by adding the contribution of the interactions between variables."
   ]
  },
  {
   "cell_type": "code",
   "execution_count": 10,
   "metadata": {},
   "outputs": [
    {
     "data": {
      "text/html": [
       "<table class=\"simpletable\">\n",
       "<caption>OLS Regression Results</caption>\n",
       "<tr>\n",
       "  <th>Dep. Variable:</th>           <td>SBP</td>       <th>  R-squared:         </th> <td>   0.151</td> \n",
       "</tr>\n",
       "<tr>\n",
       "  <th>Model:</th>                   <td>OLS</td>       <th>  Adj. R-squared:    </th> <td>   0.144</td> \n",
       "</tr>\n",
       "<tr>\n",
       "  <th>Method:</th>             <td>Least Squares</td>  <th>  F-statistic:       </th> <td>   24.52</td> \n",
       "</tr>\n",
       "<tr>\n",
       "  <th>Date:</th>             <td>Wed, 07 Jul 2021</td> <th>  Prob (F-statistic):</th> <td>4.92e-43</td> \n",
       "</tr>\n",
       "<tr>\n",
       "  <th>Time:</th>                 <td>14:15:02</td>     <th>  Log-Likelihood:    </th> <td> -6509.9</td> \n",
       "</tr>\n",
       "<tr>\n",
       "  <th>No. Observations:</th>      <td>  1394</td>      <th>  AIC:               </th> <td>1.304e+04</td>\n",
       "</tr>\n",
       "<tr>\n",
       "  <th>Df Residuals:</th>          <td>  1383</td>      <th>  BIC:               </th> <td>1.310e+04</td>\n",
       "</tr>\n",
       "<tr>\n",
       "  <th>Df Model:</th>              <td>    10</td>      <th>                     </th>     <td> </td>    \n",
       "</tr>\n",
       "<tr>\n",
       "  <th>Covariance Type:</th>      <td>nonrobust</td>    <th>                     </th>     <td> </td>    \n",
       "</tr>\n",
       "</table>\n",
       "<table class=\"simpletable\">\n",
       "<tr>\n",
       "          <td></td>             <th>coef</th>     <th>std err</th>      <th>t</th>      <th>P>|t|</th>  <th>[0.025</th>    <th>0.975]</th>  \n",
       "</tr>\n",
       "<tr>\n",
       "  <th>Intercept</th>         <td>  150.5439</td> <td>    1.001</td> <td>  150.355</td> <td> 0.000</td> <td>  148.580</td> <td>  152.508</td>\n",
       "</tr>\n",
       "<tr>\n",
       "  <th>SEX[T.male]</th>       <td>   -4.7309</td> <td>    1.451</td> <td>   -3.261</td> <td> 0.001</td> <td>   -7.577</td> <td>   -1.885</td>\n",
       "</tr>\n",
       "<tr>\n",
       "  <th>sFRW</th>              <td>   16.6450</td> <td>    1.723</td> <td>    9.660</td> <td> 0.000</td> <td>   13.265</td> <td>   20.025</td>\n",
       "</tr>\n",
       "<tr>\n",
       "  <th>sFRW:SEX[T.male]</th>  <td>    1.6673</td> <td>    3.088</td> <td>    0.540</td> <td> 0.589</td> <td>   -4.390</td> <td>    7.725</td>\n",
       "</tr>\n",
       "<tr>\n",
       "  <th>sCHOL</th>             <td>    3.6181</td> <td>    1.878</td> <td>    1.926</td> <td> 0.054</td> <td>   -0.066</td> <td>    7.302</td>\n",
       "</tr>\n",
       "<tr>\n",
       "  <th>SEX[T.male]:sCHOL</th> <td>    1.0231</td> <td>    2.933</td> <td>    0.349</td> <td> 0.727</td> <td>   -4.730</td> <td>    6.776</td>\n",
       "</tr>\n",
       "<tr>\n",
       "  <th>sFRW:sCHOL</th>        <td>    4.9729</td> <td>    2.718</td> <td>    1.829</td> <td> 0.068</td> <td>   -0.359</td> <td>   10.305</td>\n",
       "</tr>\n",
       "<tr>\n",
       "  <th>sAGE</th>              <td>   10.2189</td> <td>    2.003</td> <td>    5.101</td> <td> 0.000</td> <td>    6.289</td> <td>   14.149</td>\n",
       "</tr>\n",
       "<tr>\n",
       "  <th>SEX[T.male]:sAGE</th>  <td>   -4.2923</td> <td>    2.886</td> <td>   -1.488</td> <td> 0.137</td> <td>   -9.953</td> <td>    1.368</td>\n",
       "</tr>\n",
       "<tr>\n",
       "  <th>sFRW:sAGE</th>         <td>   -2.0866</td> <td>    2.803</td> <td>   -0.744</td> <td> 0.457</td> <td>   -7.585</td> <td>    3.412</td>\n",
       "</tr>\n",
       "<tr>\n",
       "  <th>sCHOL:sAGE</th>        <td>   -4.7564</td> <td>    3.044</td> <td>   -1.563</td> <td> 0.118</td> <td>  -10.728</td> <td>    1.215</td>\n",
       "</tr>\n",
       "</table>\n",
       "<table class=\"simpletable\">\n",
       "<tr>\n",
       "  <th>Omnibus:</th>       <td>313.112</td> <th>  Durbin-Watson:     </th> <td>   1.798</td> \n",
       "</tr>\n",
       "<tr>\n",
       "  <th>Prob(Omnibus):</th> <td> 0.000</td>  <th>  Jarque-Bera (JB):  </th> <td> 802.290</td> \n",
       "</tr>\n",
       "<tr>\n",
       "  <th>Skew:</th>          <td> 1.185</td>  <th>  Prob(JB):          </th> <td>6.10e-175</td>\n",
       "</tr>\n",
       "<tr>\n",
       "  <th>Kurtosis:</th>      <td> 5.863</td>  <th>  Cond. No.          </th> <td>    6.02</td> \n",
       "</tr>\n",
       "</table><br/><br/>Notes:<br/>[1] Standard Errors assume that the covariance matrix of the errors is correctly specified."
      ],
      "text/plain": [
       "<class 'statsmodels.iolib.summary.Summary'>\n",
       "\"\"\"\n",
       "                            OLS Regression Results                            \n",
       "==============================================================================\n",
       "Dep. Variable:                    SBP   R-squared:                       0.151\n",
       "Model:                            OLS   Adj. R-squared:                  0.144\n",
       "Method:                 Least Squares   F-statistic:                     24.52\n",
       "Date:                Wed, 07 Jul 2021   Prob (F-statistic):           4.92e-43\n",
       "Time:                        14:15:02   Log-Likelihood:                -6509.9\n",
       "No. Observations:                1394   AIC:                         1.304e+04\n",
       "Df Residuals:                    1383   BIC:                         1.310e+04\n",
       "Df Model:                          10                                         \n",
       "Covariance Type:            nonrobust                                         \n",
       "=====================================================================================\n",
       "                        coef    std err          t      P>|t|      [0.025      0.975]\n",
       "-------------------------------------------------------------------------------------\n",
       "Intercept           150.5439      1.001    150.355      0.000     148.580     152.508\n",
       "SEX[T.male]          -4.7309      1.451     -3.261      0.001      -7.577      -1.885\n",
       "sFRW                 16.6450      1.723      9.660      0.000      13.265      20.025\n",
       "sFRW:SEX[T.male]      1.6673      3.088      0.540      0.589      -4.390       7.725\n",
       "sCHOL                 3.6181      1.878      1.926      0.054      -0.066       7.302\n",
       "SEX[T.male]:sCHOL     1.0231      2.933      0.349      0.727      -4.730       6.776\n",
       "sFRW:sCHOL            4.9729      2.718      1.829      0.068      -0.359      10.305\n",
       "sAGE                 10.2189      2.003      5.101      0.000       6.289      14.149\n",
       "SEX[T.male]:sAGE     -4.2923      2.886     -1.488      0.137      -9.953       1.368\n",
       "sFRW:sAGE            -2.0866      2.803     -0.744      0.457      -7.585       3.412\n",
       "sCHOL:sAGE           -4.7564      3.044     -1.563      0.118     -10.728       1.215\n",
       "==============================================================================\n",
       "Omnibus:                      313.112   Durbin-Watson:                   1.798\n",
       "Prob(Omnibus):                  0.000   Jarque-Bera (JB):              802.290\n",
       "Skew:                           1.185   Prob(JB):                    6.10e-175\n",
       "Kurtosis:                       5.863   Cond. No.                         6.02\n",
       "==============================================================================\n",
       "\n",
       "Notes:\n",
       "[1] Standard Errors assume that the covariance matrix of the errors is correctly specified.\n",
       "\"\"\""
      ]
     },
     "execution_count": 10,
     "metadata": {},
     "output_type": "execute_result"
    }
   ],
   "source": [
    "model = smf.ols('SBP ~ sFRW + SEX + sFRW:SEX + sCHOL + sFRW:sCHOL + SEX:sCHOL + sAGE + sFRW:sAGE + SEX:sAGE + sCHOL:sAGE', data=fram)\n",
    "# We fit the model and get the regression results\n",
    "fit = model.fit()\n",
    "fit.summary()"
   ]
  },
  {
   "cell_type": "markdown",
   "metadata": {},
   "source": [
    "The R-squared for the model increases, but the adjusted value (that corrects for the number of predictors) tells us that most of the interactions are not significantly correlated with `SBP`."
   ]
  },
  {
   "cell_type": "markdown",
   "metadata": {},
   "source": [
    "We can visualize the model as a function of the normalized weight for women and it's adjustment to data, grouping by three categories of age. (`sAGE`=-1.0) corresponds to the youngest, (`sAGE`=0.0) to middle-aged participants and (`sAGE`=1.0) to the oldest, taking the changes in the intercept and the coefficients into account for each case."
   ]
  },
  {
   "cell_type": "code",
   "execution_count": 11,
   "metadata": {},
   "outputs": [
    {
     "data": {
      "text/plain": [
       "<matplotlib.legend.Legend at 0x1feed0dbbe0>"
      ]
     },
     "execution_count": 11,
     "metadata": {},
     "output_type": "execute_result"
    },
    {
     "data": {
      "image/png": "[encoded data removed]",
      "text/plain": [
       "<Figure size 432x288 with 1 Axes>"
      ]
     },
     "metadata": {
      "needs_background": "light"
     },
     "output_type": "display_data"
    }
   ],
   "source": [
    "# We get the parameters of the model\n",
    "p = fit.params\n",
    "# We plot the data regarding SBP as a function of weight for females\n",
    "fram[fram['SEX'] == 'female'].plot.scatter('sFRW', 'SBP')\n",
    "\n",
    "# We plot the model predictions for three ranges of age to visualize the differences in\n",
    "# SBP as a function of weight for each group\n",
    "\n",
    "abline_plot(intercept=p.Intercept-p['sAGE'], slope=p.sFRW-p['sFRW:sAGE'], ax=plt.gca(), color='blue', label='low')\n",
    "\n",
    "abline_plot(intercept=p.Intercept, slope=p.sFRW,ax=plt.gca(), color='magenta', label='mid')\n",
    "\n",
    "abline_plot(intercept=p.Intercept+p['sAGE'], slope=p.sFRW+p['sFRW:sAGE'],ax=plt.gca(), color='red', label='high')\n",
    "\n",
    "plt.title('Linear regression model for women')\n",
    "plt.legend()"
   ]
  },
  {
   "cell_type": "markdown",
   "metadata": {},
   "source": [
    "We can observe that for all age groups blood pressure increases with weight, but its levels are generally higher in older people. However, blood pressure is similar for women of all age groups in the high weight range."
   ]
  },
  {
   "cell_type": "markdown",
   "metadata": {},
   "source": [
    "### Increasing the accuracy of the model\n",
    "\n",
    "To expand the model's predictive accuracy, we include the variable `sCIG` from the data and its interactions with the rest of the predictors already considered in the model. Then we plot the model for `SBP` as a function of the most important explanatory variable, visualizing different ranges of `sCHOL`, while keeping the rest of the variables at their mean values."
   ]
  },
  {
   "cell_type": "code",
   "execution_count": 12,
   "metadata": {},
   "outputs": [
    {
     "name": "stdout",
     "output_type": "stream",
     "text": [
      "                            OLS Regression Results                            \n",
      "==============================================================================\n",
      "Dep. Variable:                    SBP   R-squared:                       0.152\n",
      "Model:                            OLS   Adj. R-squared:                  0.143\n",
      "Method:                 Least Squares   F-statistic:                     16.50\n",
      "Date:                Wed, 07 Jul 2021   Prob (F-statistic):           2.99e-40\n",
      "Time:                        14:15:03   Log-Likelihood:                -6508.6\n",
      "No. Observations:                1394   AIC:                         1.305e+04\n",
      "Df Residuals:                    1378   BIC:                         1.313e+04\n",
      "Df Model:                          15                                         \n",
      "Covariance Type:            nonrobust                                         \n",
      "=====================================================================================\n",
      "                        coef    std err          t      P>|t|      [0.025      0.975]\n",
      "-------------------------------------------------------------------------------------\n",
      "Intercept           151.3182      1.160    130.456      0.000     149.043     153.594\n",
      "SEX[T.male]          -5.3834      1.598     -3.368      0.001      -8.519      -2.248\n",
      "sFRW                 17.6415      1.866      9.455      0.000      13.981      21.302\n",
      "sFRW:SEX[T.male]     -0.1140      3.441     -0.033      0.974      -6.865       6.637\n",
      "sCHOL                 3.2957      1.965      1.677      0.094      -0.559       7.151\n",
      "SEX[T.male]:sCHOL     1.4369      3.142      0.457      0.648      -4.727       7.600\n",
      "sFRW:sCHOL            4.8912      2.735      1.788      0.074      -0.475      10.257\n",
      "sAGE                 10.3615      2.119      4.890      0.000       6.205      14.518\n",
      "SEX[T.male]:sAGE     -4.4248      3.179     -1.392      0.164     -10.661       1.811\n",
      "sFRW:sAGE            -1.8501      2.848     -0.650      0.516      -7.437       3.737\n",
      "sCHOL:sAGE           -4.8509      3.091     -1.569      0.117     -10.914       1.212\n",
      "sCIG                  3.7733      3.106      1.215      0.225      -2.319       9.865\n",
      "sCIG:SEX[T.male]     -3.9094      3.599     -1.086      0.278     -10.970       3.151\n",
      "sCIG:sFRW             3.6765      3.373      1.090      0.276      -2.941      10.294\n",
      "sCIG:sCHOL           -1.6344      3.368     -0.485      0.628      -8.242       4.973\n",
      "sCIG:sAGE            -0.3247      3.143     -0.103      0.918      -6.490       5.840\n",
      "==============================================================================\n",
      "Omnibus:                      303.518   Durbin-Watson:                   1.802\n",
      "Prob(Omnibus):                  0.000   Jarque-Bera (JB):              750.095\n",
      "Skew:                           1.164   Prob(JB):                    1.32e-163\n",
      "Kurtosis:                       5.738   Cond. No.                         7.93\n",
      "==============================================================================\n",
      "\n",
      "Notes:\n",
      "[1] Standard Errors assume that the covariance matrix of the errors is correctly specified.\n"
     ]
    },
    {
     "data": {
      "text/plain": [
       "<matplotlib.legend.Legend at 0x1feed262b80>"
      ]
     },
     "execution_count": 12,
     "metadata": {},
     "output_type": "execute_result"
    },
    {
     "data": {
      "image/png": "[encoded data removed]",
      "text/plain": [
       "<Figure size 432x288 with 1 Axes>"
      ]
     },
     "metadata": {
      "needs_background": "light"
     },
     "output_type": "display_data"
    }
   ],
   "source": [
    "# We add the contribution of smoking and its interactions to expand the model\n",
    "model = smf.ols('SBP ~ sFRW + SEX + sFRW:SEX + sCHOL + sFRW:sCHOL + SEX:sCHOL + sAGE + sFRW:sAGE + SEX:sAGE + sCHOL:sAGE + sCIG + sCIG:sFRW + sCIG:SEX + sCIG:sCHOL + sCIG:sAGE', data=fram)\n",
    "# We fit the model and get the regression results\n",
    "fit = model.fit()\n",
    "print(fit.summary())\n",
    "\n",
    "# We get the parameters of the model\n",
    "p = fit.params\n",
    "# We plot the data regarding SBP as a function of weight (the most explanatory variable)\n",
    "fram[fram['SEX'] == 'female'].plot.scatter('sFRW', 'SBP')\n",
    "\n",
    "# We plot the model predictions for three ranges of normalized cholesterol level to visualize the differences in\n",
    "# SBP as a function of weight for each group\n",
    "\n",
    "abline_plot(intercept=p.Intercept-p['sCHOL'], slope=p.sFRW-p['sFRW:sCHOL'], ax=plt.gca(), color='blue', label='low')\n",
    "\n",
    "abline_plot(intercept=p.Intercept, slope=p.sFRW,ax=plt.gca(), color='magenta', label='mid')\n",
    "\n",
    "abline_plot(intercept=p.Intercept+p['sCHOL'], slope=p.sFRW+p['sFRW:sCHOL'],ax=plt.gca(), color='red', label='high')\n",
    "plt.title('Linear regression model for women')\n",
    "\n",
    "plt.legend()"
   ]
  },
  {
   "cell_type": "markdown",
   "metadata": {},
   "source": [
    "The model accuracy is similar, according to the adjusted R-squared value obtained, to the model that didn't include `sCIG` as an explanatory variable. Moreover, the p-values associated to `sCIG` and its interactions with the other values indicate that there is not a strong relationship between `sCIG` and `SBP`. "
   ]
  },
  {
   "cell_type": "markdown",
   "metadata": {},
   "source": [
    "## _Logistic regression_"
   ]
  },
  {
   "cell_type": "markdown",
   "metadata": {},
   "source": [
    "The logistic regression model is useful to predict categorical variables, as it lets us calculate a probability using the sigmoid function and then make a binary classification of the results according to a threshold value."
   ]
  },
  {
   "cell_type": "markdown",
   "metadata": {},
   "source": [
    "First, we define the sigmoid function."
   ]
  },
  {
   "cell_type": "code",
   "execution_count": 13,
   "metadata": {},
   "outputs": [],
   "source": [
    "def logistic(x):\n",
    "    return 1.0 / (1.0 + np.exp(-x))"
   ]
  },
  {
   "cell_type": "markdown",
   "metadata": {},
   "source": [
    "Then, we define a categorical variable for high blood pressure, `HIGH_BP`, by restricting both the `SBP` and `DBP` columns. We fit the logistic regression model to predict `HIGH_BP` using weight and sex as explanatory variables, and compute the error as the average of false positives and false negatives."
   ]
  },
  {
   "cell_type": "code",
   "execution_count": 14,
   "metadata": {},
   "outputs": [
    {
     "name": "stdout",
     "output_type": "stream",
     "text": [
      "                 Generalized Linear Model Regression Results                  \n",
      "==============================================================================\n",
      "Dep. Variable:                HIGH_BP   No. Observations:                 1394\n",
      "Model:                            GLM   Df Residuals:                     1390\n",
      "Model Family:                Binomial   Df Model:                            3\n",
      "Link Function:                  logit   Scale:                          1.0000\n",
      "Method:                          IRLS   Log-Likelihood:                -856.87\n",
      "Date:                Wed, 07 Jul 2021   Deviance:                       1713.7\n",
      "Time:                        14:15:03   Pearson chi2:                 1.39e+03\n",
      "No. Iterations:                     4                                         \n",
      "Covariance Type:            nonrobust                                         \n",
      "====================================================================================\n",
      "                       coef    std err          z      P>|z|      [0.025      0.975]\n",
      "------------------------------------------------------------------------------------\n",
      "Intercept            0.7631      0.082      9.266      0.000       0.602       0.925\n",
      "SEX[T.male]         -0.1624      0.120     -1.350      0.177      -0.398       0.073\n",
      "sFRW                 1.0738      0.176      6.095      0.000       0.728       1.419\n",
      "SEX[T.male]:sFRW     0.2709      0.287      0.943      0.346      -0.292       0.834\n",
      "====================================================================================\n",
      "Error rate:  0.35581061692969873\n"
     ]
    }
   ],
   "source": [
    "# We define the numeric variable HIGH_BP according to a restriction applied to SBP and DBP\n",
    "fram[\"HIGH_BP\"]=(fram.SBP>=140)|(fram.DBP>=90)\n",
    "fram.HIGH_BP=fram.HIGH_BP.astype(int)\n",
    "\n",
    "# We fit the logistical regression model by using normalized weight, sex and\n",
    "# its interactions as explanatory variables\n",
    "model = smf.glm(formula='HIGH_BP ~ sFRW + SEX + SEX:sFRW', data=fram, family=sm.families.Binomial(statsmodels.genmod.families.links.logit()))\n",
    "# We adjust the model and get the results\n",
    "fit = model.fit()\n",
    "print(fit.summary())\n",
    "\n",
    "# We calculate the mean error as the sum of false positives and false negatives\n",
    "error_rate_orig = np.mean(((fit.fittedvalues<0.5)&fram.HIGH_BP)|((fit.fittedvalues>0.5)& ~fram.HIGH_BP))\n",
    "\n",
    "print('Error rate: ',error_rate_orig)"
   ]
  },
  {
   "cell_type": "markdown",
   "metadata": {},
   "source": [
    "The error rate of the model, as defined previously, is above 35%. From the summary of GLM we can see that `SEX` and its interactions are not significantly correlated with HIGH_BP. If we remove it from the model:"
   ]
  },
  {
   "cell_type": "code",
   "execution_count": 15,
   "metadata": {},
   "outputs": [
    {
     "name": "stdout",
     "output_type": "stream",
     "text": [
      "                 Generalized Linear Model Regression Results                  \n",
      "==============================================================================\n",
      "Dep. Variable:                HIGH_BP   No. Observations:                 1394\n",
      "Model:                            GLM   Df Residuals:                     1392\n",
      "Model Family:                Binomial   Df Model:                            1\n",
      "Link Function:                  logit   Scale:                          1.0000\n",
      "Method:                          IRLS   Log-Likelihood:                -858.64\n",
      "Date:                Wed, 07 Jul 2021   Deviance:                       1717.3\n",
      "Time:                        14:15:03   Pearson chi2:                 1.39e+03\n",
      "No. Iterations:                     4                                         \n",
      "Covariance Type:            nonrobust                                         \n",
      "==============================================================================\n",
      "                 coef    std err          z      P>|z|      [0.025      0.975]\n",
      "------------------------------------------------------------------------------\n",
      "Intercept      0.6756      0.059     11.402      0.000       0.559       0.792\n",
      "sFRW           1.2019      0.139      8.650      0.000       0.930       1.474\n",
      "==============================================================================\n",
      "Error rate:  0.3450502152080344\n"
     ]
    }
   ],
   "source": [
    "# We fit the logistical regression model by using normalized weight\n",
    "# as the only explanatory variable\n",
    "model = smf.glm(formula='HIGH_BP ~ sFRW', data=fram, family=sm.families.Binomial(statsmodels.genmod.families.links.logit()))\n",
    "# We adjust the model and get the results\n",
    "fit = model.fit()\n",
    "print(fit.summary())\n",
    "\n",
    "# We calculate the mean error as the sum of false positives and false negatives\n",
    "error_rate_orig = np.mean(((fit.fittedvalues<0.5)&fram.HIGH_BP)|((fit.fittedvalues>0.5)& ~fram.HIGH_BP))\n",
    "\n",
    "print('Error rate: ',error_rate_orig)"
   ]
  },
  {
   "cell_type": "markdown",
   "metadata": {},
   "source": [
    "The error rate is lower than for the previous model, which verifies our assumptions."
   ]
  },
  {
   "cell_type": "markdown",
   "metadata": {},
   "source": [
    "If we consider `sAGE` and its interactions as predictors to expand the model, we get the following result:"
   ]
  },
  {
   "cell_type": "code",
   "execution_count": 16,
   "metadata": {},
   "outputs": [
    {
     "name": "stdout",
     "output_type": "stream",
     "text": [
      "                 Generalized Linear Model Regression Results                  \n",
      "==============================================================================\n",
      "Dep. Variable:                HIGH_BP   No. Observations:                 1394\n",
      "Model:                            GLM   Df Residuals:                     1387\n",
      "Model Family:                Binomial   Df Model:                            6\n",
      "Link Function:                  logit   Scale:                          1.0000\n",
      "Method:                          IRLS   Log-Likelihood:                -845.51\n",
      "Date:                Wed, 07 Jul 2021   Deviance:                       1691.0\n",
      "Time:                        14:15:03   Pearson chi2:                 1.39e+03\n",
      "No. Iterations:                     4                                         \n",
      "Covariance Type:            nonrobust                                         \n",
      "====================================================================================\n",
      "                       coef    std err          z      P>|z|      [0.025      0.975]\n",
      "------------------------------------------------------------------------------------\n",
      "Intercept            0.8079      0.084      9.569      0.000       0.642       0.973\n",
      "SEX[T.male]         -0.1983      0.121     -1.632      0.103      -0.436       0.040\n",
      "sFRW                 1.0196      0.180      5.670      0.000       0.667       1.372\n",
      "SEX[T.male]:sFRW     0.3754      0.289      1.297      0.195      -0.192       0.943\n",
      "sAGE                 0.6008      0.173      3.466      0.001       0.261       0.941\n",
      "sAGE:SEX[T.male]    -0.5727      0.239     -2.392      0.017      -1.042      -0.103\n",
      "sAGE:sFRW           -0.7588      0.276     -2.750      0.006      -1.300      -0.218\n",
      "====================================================================================\n",
      "Error rate:  0.3278335724533716\n"
     ]
    }
   ],
   "source": [
    "# We expand the logistic regression model by adding the normalized age and its interactions\n",
    "# as explanatory variables\n",
    "model_s = smf.glm(formula='HIGH_BP ~ sFRW + SEX + SEX:sFRW + sAGE + sAGE:sFRW + sAGE:SEX', data=fram, family=sm.families.Binomial(statsmodels.genmod.families.links.logit()))\n",
    "\n",
    "# We fit the model and get the results\n",
    "fit_s = model_s.fit()\n",
    "print(fit_s.summary())\n",
    "\n",
    "# We calculate the mean error again for comparison purposes\n",
    "error_rate = np.mean(((fit_s.fittedvalues<0.5)&fram.HIGH_BP)|((fit_s.fittedvalues>0.5)& ~fram.HIGH_BP))\n",
    "\n",
    "print('Error rate: ',error_rate)"
   ]
  },
  {
   "cell_type": "markdown",
   "metadata": {},
   "source": [
    "Adding `sAGE` as a predictor reduced the error in the model slightly. The summary results tell us again that `SEX` and its interactions have no significant correlation with the variable to predict. We can again verify our conclusions by removing `SEX` from the model."
   ]
  },
  {
   "cell_type": "code",
   "execution_count": 17,
   "metadata": {},
   "outputs": [
    {
     "name": "stdout",
     "output_type": "stream",
     "text": [
      "                 Generalized Linear Model Regression Results                  \n",
      "==============================================================================\n",
      "Dep. Variable:                HIGH_BP   No. Observations:                 1394\n",
      "Model:                            GLM   Df Residuals:                     1390\n",
      "Model Family:                Binomial   Df Model:                            3\n",
      "Link Function:                  logit   Scale:                          1.0000\n",
      "Method:                          IRLS   Log-Likelihood:                -850.73\n",
      "Date:                Wed, 07 Jul 2021   Deviance:                       1701.5\n",
      "Time:                        14:15:03   Pearson chi2:                 1.39e+03\n",
      "No. Iterations:                     4                                         \n",
      "Covariance Type:            nonrobust                                         \n",
      "==============================================================================\n",
      "                 coef    std err          z      P>|z|      [0.025      0.975]\n",
      "------------------------------------------------------------------------------\n",
      "Intercept      0.6922      0.060     11.562      0.000       0.575       0.810\n",
      "sFRW           1.2134      0.142      8.567      0.000       0.936       1.491\n",
      "sAGE           0.2956      0.121      2.450      0.014       0.059       0.532\n",
      "sAGE:sFRW     -0.6630      0.273     -2.427      0.015      -1.199      -0.128\n",
      "==============================================================================\n",
      "Error rate:  0.3285509325681492\n"
     ]
    }
   ],
   "source": [
    "model = smf.glm(formula='HIGH_BP ~ sFRW + sAGE + sAGE:sFRW', data=fram, family=sm.families.Binomial(statsmodels.genmod.families.links.logit()))\n",
    "\n",
    "# We fit the model and get the results\n",
    "fit = model.fit()\n",
    "print(fit.summary())\n",
    "\n",
    "# We calculate the mean error again for comparison purposes\n",
    "error_rate = np.mean(((fit.fittedvalues<0.5)&fram.HIGH_BP)|((fit.fittedvalues>0.5)& ~fram.HIGH_BP))\n",
    "\n",
    "print('Error rate: ',error_rate)"
   ]
  },
  {
   "cell_type": "markdown",
   "metadata": {},
   "source": [
    "The calculated error rate, as the proportion of false positives and false negatives, is similar even after removing the explanatory variable. This corroborates our assumption."
   ]
  },
  {
   "cell_type": "markdown",
   "metadata": {},
   "source": [
    "Next, we visualize the predicted probability of `HIGH_BP` as a function of `sFRW` for women and men, divided by age groups, returning to the previous model."
   ]
  },
  {
   "cell_type": "code",
   "execution_count": 18,
   "metadata": {},
   "outputs": [
    {
     "data": {
      "text/plain": [
       "<matplotlib.legend.Legend at 0x1feed2f9f10>"
      ]
     },
     "execution_count": 18,
     "metadata": {},
     "output_type": "execute_result"
    },
    {
     "data": {
      "image/png": "[encoded data removed]",
      "text/plain": [
       "<Figure size 1008x288 with 2 Axes>"
      ]
     },
     "metadata": {
      "needs_background": "light"
     },
     "output_type": "display_data"
    }
   ],
   "source": [
    "# We get the parameters of the models and plot the data values for HIGH_BP for men and female\n",
    "# together with the logistic model regression curves for three age groups\n",
    "\n",
    "p = fit_s.params\n",
    "\n",
    "X = np.linspace(-3,3,100)\n",
    "\n",
    "fig, ax = plt.subplots(1,2, subplot_kw={'xlim': (-3.3,3.3),'ylim': (0,1),'xlabel':'sFRW','ylabel':'HIGH_BP'},figsize=(14,4))\n",
    "\n",
    "ax[0].scatter(fram.sFRW[fram['SEX']=='female'], fram.HIGH_BP[fram['SEX']=='female'])\n",
    "\n",
    "ax[0].plot(X, logistic(X*(p.sFRW-p['sAGE:sFRW'])+p.Intercept-p['sAGE']), color='blue', label='low')\n",
    "\n",
    "ax[0].plot(X, logistic(X*(p.sFRW)+p.Intercept), color='magenta', label='mid')\n",
    "\n",
    "ax[0].plot(X, logistic(X*(p.sFRW+p['sAGE:sFRW'])+p.Intercept+p['sAGE']), color='red', label='high')\n",
    "\n",
    "ax[0].set_title('Female')\n",
    "\n",
    "ax[1].scatter(fram.sFRW[fram['SEX']=='male'], fram.HIGH_BP[fram['SEX']=='male'])\n",
    "\n",
    "ax[1].plot(X, logistic(X*(p.sFRW-p['sAGE:sFRW']+p['SEX[T.male]:sFRW'])+p.Intercept-p['sAGE']+p['SEX[T.male]']), color='blue', label='low')\n",
    "\n",
    "ax[1].plot(X, logistic(X*(p.sFRW+p['SEX[T.male]:sFRW'])+p.Intercept+p['SEX[T.male]']), color='magenta', label='mid')\n",
    "\n",
    "ax[1].plot(X, logistic(X*(p.sFRW+p['sAGE:sFRW']+p['SEX[T.male]:sFRW'])+p.Intercept+p['sAGE']+p['SEX[T.male]']), color='red', label='high')\n",
    "\n",
    "ax[1].set_title('Male')\n",
    "\n",
    "plt.legend()\n"
   ]
  },
  {
   "cell_type": "markdown",
   "metadata": {},
   "source": [
    "Both models predict a higher probability of having high blood pressure as weight increases for all age groups. The main difference is that the probability for `HIGH_BP` is significantly higher for females than males at lower weights."
   ]
  },
  {
   "cell_type": "markdown",
   "metadata": {},
   "source": [
    "Then, we create a helper function `train_test_split` that gets a DataFrame as parameter and return a pair of DataFrames splitted randomly using the `sample` method: one for training and the second for testing."
   ]
  },
  {
   "cell_type": "code",
   "execution_count": 19,
   "metadata": {},
   "outputs": [],
   "source": [
    "# We define a function to split a DataFrame into train and test groups for cross-validation purposes\n",
    "def train_test_split(df, train_fraction=0.8):\n",
    "    train_sample = df.sample(frac=train_fraction)\n",
    "    test_sample = df.drop(train_sample.index)\n",
    "    return train_sample, test_sample\n"
   ]
  },
  {
   "cell_type": "markdown",
   "metadata": {},
   "source": [
    "We can now cross-validate the model. For this purpose, we use 100-fold cross validation and a training fraction of 0.8."
   ]
  },
  {
   "cell_type": "code",
   "execution_count": 20,
   "metadata": {
    "tags": []
   },
   "outputs": [
    {
     "name": "stdout",
     "output_type": "stream",
     "text": [
      "Error rate:  0.3311827956989248\n"
     ]
    }
   ],
   "source": [
    "error_model=[]\n",
    "np.random.seed(1)\n",
    "\n",
    "# We split the data into random training and test sets, fit the model, predict the results and calculate\n",
    "# the error rate 100 times. This way we can test the accuracy for the model\n",
    "for i in range(100):\n",
    "    train, test = train_test_split(fram)\n",
    "    model = smf.glm(formula='HIGH_BP ~ sFRW + SEX + SEX:sFRW + sAGE + sAGE:sFRW + sAGE:SEX', data=train, family=sm.families.Binomial(statsmodels.genmod.families.links.logit()))\n",
    "    fit = model.fit()\n",
    "    pred = fit.predict(test, transform=True)\n",
    "    error_rate_orig = np.mean(((pred<0.5)&(test.HIGH_BP))|((pred>0.5)& (~test.HIGH_BP)))\n",
    "    error_model.append(error_rate_orig)\n",
    "\n",
    "# We calculate the error as the mean of all errors calculated in the 100-fold cross-validation\n",
    "error_rate = pd.Series(error_model).mean()\n",
    "print('Error rate: ',error_rate)"
   ]
  },
  {
   "cell_type": "markdown",
   "metadata": {},
   "source": [
    "## _Predicting coronary heart disease_\n",
    "\n",
    "As a final step in our analysis, we want to train a model to predict the 10-year risk of developing coronary heart disease. To accomplish this, we will use logistic regression adding to the data the binary variable `hasCHD`, that describes the event (`CHD > 0`, higher risk of 10-year occurence of coronary heart disease). The variable `hasCHD` can get only two values: 0 or 1, so calculating the mean tells us the proportion of positive cases."
   ]
  },
  {
   "cell_type": "code",
   "execution_count": 21,
   "metadata": {},
   "outputs": [
    {
     "data": {
      "text/plain": [
       "0.22022955523672882"
      ]
     },
     "execution_count": 21,
     "metadata": {},
     "output_type": "execute_result"
    }
   ],
   "source": [
    "# We define the binary variable hadCHD and check the proportion of positive cases\n",
    "fram['hasCHD'] = (fram['CHD'] > 0).astype(int)\n",
    "fram['hasCHD'].mean()\n"
   ]
  },
  {
   "cell_type": "markdown",
   "metadata": {},
   "source": [
    "Then, we create a logistic regression model for `hasCHD` by using `sCHOL`, `sCIG`, and `sFRW`, and their interactions as explanatory variables. Again, we calculate the error rate as the proportion of false positives and false negatives."
   ]
  },
  {
   "cell_type": "code",
   "execution_count": 22,
   "metadata": {
    "tags": []
   },
   "outputs": [
    {
     "name": "stdout",
     "output_type": "stream",
     "text": [
      "                 Generalized Linear Model Regression Results                  \n",
      "==============================================================================\n",
      "Dep. Variable:                 hasCHD   No. Observations:                 1394\n",
      "Model:                            GLM   Df Residuals:                     1387\n",
      "Model Family:                Binomial   Df Model:                            6\n",
      "Link Function:                  logit   Scale:                          1.0000\n",
      "Method:                          IRLS   Log-Likelihood:                -721.19\n",
      "Date:                Wed, 07 Jul 2021   Deviance:                       1442.4\n",
      "Time:                        14:15:07   Pearson chi2:                 1.39e+03\n",
      "No. Iterations:                     4                                         \n",
      "Covariance Type:            nonrobust                                         \n",
      "==============================================================================\n",
      "                 coef    std err          z      P>|z|      [0.025      0.975]\n",
      "------------------------------------------------------------------------------\n",
      "Intercept     -1.2888      0.067    -19.101      0.000      -1.421      -1.157\n",
      "sCHOL          0.3324      0.130      2.554      0.011       0.077       0.587\n",
      "sCIG           0.4613      0.126      3.666      0.000       0.215       0.708\n",
      "sCHOL:sCIG    -0.1022      0.273     -0.374      0.708      -0.637       0.433\n",
      "sFRW           0.4404      0.130      3.386      0.001       0.185       0.695\n",
      "sFRW:sCHOL     0.1359      0.239      0.568      0.570      -0.333       0.604\n",
      "sFRW:sCIG      0.1646      0.258      0.637      0.524      -0.342       0.671\n",
      "==============================================================================\n",
      "Error rate:  0.22022955523672882\n"
     ]
    }
   ],
   "source": [
    "error_model=[]\n",
    "np.random.seed(1)\n",
    "\n",
    "def train_test_split(df, train_fraction=0.8):\n",
    "    train_sample = df.sample(frac=train_fraction)\n",
    "    test_sample = df.drop(train_sample.index)\n",
    "    return train_sample, test_sample\n",
    "\n",
    "# A logistic regression model is created, including smoking, cholesterol level, weight and its interactions\n",
    "# as explanatory variables.\n",
    "\n",
    "model = smf.glm(formula='hasCHD ~ sCHOL + sCIG + sCHOL:sCIG + sFRW + sFRW:sCHOL + sFRW:sCIG', data=fram, family=sm.families.Binomial(statsmodels.genmod.families.links.logit()))\n",
    "fit = model.fit()\n",
    "pred = fit.predict(fram, transform=True)\n",
    "error_rate = np.mean(((pred<0.5)&(fram.hasCHD))|((pred>0.5)&(~fram.hasCHD)))\n",
    "print(fit.summary())\n",
    "print('Error rate: ',error_rate)\n"
   ]
  },
  {
   "cell_type": "markdown",
   "metadata": {},
   "source": [
    "We can see that the model has a 78% accuracy and the most relevant predictor is `sCIG`. In fact, `sCHOL` and its interactions are not relevant for the prediction. If we plot both the data and the model, we get the following result:"
   ]
  },
  {
   "cell_type": "code",
   "execution_count": 23,
   "metadata": {},
   "outputs": [
    {
     "data": {
      "image/png": "[encoded data removed]",
      "text/plain": [
       "<Figure size 432x288 with 1 Axes>"
      ]
     },
     "metadata": {
      "needs_background": "light"
     },
     "output_type": "display_data"
    }
   ],
   "source": [
    "# We plot both the data points and the logistic curve for the most important explanatory variable of the model\n",
    "X = np.linspace(-1,2.5,100)\n",
    "p = fit.params\n",
    "plt.scatter(fram.sCIG, fram.hasCHD)\n",
    "plt.plot(X, logistic(X*p.sCIG+p.Intercept))\n",
    "plt.ylabel('P(HAS_CHD)')\n",
    "plt.xlabel('sCIG')\n",
    "plt.title('Logistic regression model for CHD')\n",
    "plt.show()"
   ]
  },
  {
   "cell_type": "markdown",
   "metadata": {},
   "source": [
    "As it was calculated before, the model has an accuracy of approximately 78%, which makes its predictions significantly better than random guessing. We could use it to predict the development of CHD in the following 10-year period, taking as input a patient's cholesterol levels, smoking habits and weight."
   ]
  },
  {
   "cell_type": "markdown",
   "metadata": {},
   "source": [
    "If a person has cholestherol 200, smokes 17 cigarets per day, and has weight 100, then what is the probability that he/she sometimes shows signs of coronal hear disease? Note that the model expects normalized values. Store the normalized values to dictionary called `point`. Store the probability in variable `predicted`."
   ]
  },
  {
   "cell_type": "code",
   "execution_count": 24,
   "metadata": {},
   "outputs": [
    {
     "name": "stdout",
     "output_type": "stream",
     "text": [
      "Predicted probability:  0.2161616602504101\n",
      "Prediction: No occurence of CHD in the next 10 years\n"
     ]
    }
   ],
   "source": [
    "# We try the model by predicting coronal heart disease for a specific data point and store the\n",
    "# probability value obtained\n",
    "v_CHOL = (200 - fram.CHOL.mean())/(2*fram.CHOL.std())\n",
    "v_CIG = (17 - fram.CIG.mean())/(2*fram.CIG.std())\n",
    "v_FRW = (100 - fram.FRW.mean())/(2*fram.FRW.std())\n",
    "\n",
    "point = {'sCHOL':v_CHOL, 'sCIG':v_CIG, 'sFRW':v_FRW}\n",
    "predicted = fit.predict(point).values[0]\n",
    "print('Predicted probability: ',predicted)\n",
    "if predicted < 0.5:\n",
    "    print('Prediction: No occurence of CHD in the next 10 years')\n",
    "else:\n",
    "    print('Prediction: Occurence of CHD in the next 10 years')"
   ]
  },
  {
   "cell_type": "markdown",
   "metadata": {},
   "source": [
    "As we saw, a feature selection process could improve the relevance and accuracy of the model. This could lead to better and more useful predictions. It could be interesting to adjust the data to another binary classification models, like Decision Trees or KNN, to compare these results and find the optimal alternative."
   ]
  }
 ],
 "metadata": {
  "kernelspec": {
   "display_name": "Python 3",
   "language": "python",
   "name": "python3"
  },
  "language_info": {
   "codemirror_mode": {
    "name": "ipython",
    "version": 3
   },
   "file_extension": ".py",
   "mimetype": "text/x-python",
   "name": "python",
   "nbconvert_exporter": "python",
   "pygments_lexer": "ipython3",
   "version": "3.8.5"
  }
 },
 "nbformat": 4,
 "nbformat_minor": 2
}
